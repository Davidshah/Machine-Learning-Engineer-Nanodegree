{
 "cells": [
  {
   "cell_type": "markdown",
   "metadata": {},
   "source": [
    "Submission Instructions:\n",
    "\n",
    "* For each question, create a solution in Python (version 2). All solutions should be functions named as “question1”, “question2”, et cetera. Feel free to make additional helper functions or classes as needed. Code solutions must be in a file called \"solutions.py\".\n",
    "* In the same .py file, include at least 3 test cases for each solution. For each test case, write the function call with the input you want to test and print it to the console, like \"print question1()\". On the next line, comment out the output you expect to see from that function call. At least 2 of these must be edge cases, testing inputs such as null values, empty inputs, unusually large values, et cetera.\n",
    "* Write up an explanation for each question in a single separate text file (called \"explanations.txt\"). Your paragraph should not be a detailed walkthrough of the code you provided, but provide your reasoning behind decisions made in the code. For example, why did you use that data structure? You also need to explain the efficiency (time and space) of your solution.\n",
    "* Compress your one Python and one text file into a .zip, and submit."
   ]
  },
  {
   "cell_type": "markdown",
   "metadata": {},
   "source": [
    "Code:\n",
    "* Code produces the correct solution to the question. There are also no runtime or compile time errors.\n",
    "* Code is neat and easy-to-read. Variables, functions, and methods have straightforward names. There is enough spacing that code is easily readable.\n",
    "* Code solution is not unnecessarily complex—it accomplishes the task at hand without extra iterating, algorithms, data structures, et cetera.\n",
    "\n",
    "Explanation:\n",
    "* There is a clear and accurate statement of efficiency. There is an explanation that specifically mentions parts of the code that contribute to the overall efficiency.\n",
    "* Explanation contains some discussion of design choices made in the code. Some examples include the choice of algorithm and data structure.\n",
    "* Explanation is written with proper English. Wording is clear and easy to understand. It’s okay to make a couple mistakes, but thoughts should be clearly expressed overall.\n",
    "\n",
    "Testing:\n",
    "* At least three test inputs and outputs are provided. There are at least two that test for edge cases, like null or empty inputs, or very large numbers."
   ]
  },
  {
   "cell_type": "markdown",
   "metadata": {},
   "source": [
    "## Question 1\n",
    "Given two strings `s` and `t`, determine whether some anagram of `t` is a substring of `s`. For example: if `s = \"udacity\"` and `t = \"ad\"`, then the function returns `True`. Your function definition should look like: `question1(s, t)` and return a boolean `True` or `False`."
   ]
  },
  {
   "cell_type": "code",
   "execution_count": 43,
   "metadata": {
    "collapsed": false
   },
   "outputs": [],
   "source": [
    "def question1(s, t):\n",
    "    \"\"\"\n",
    "    Return true if some anagram of t is a substring of s.\n",
    "    Otherwise return false.\n",
    "    \"\"\"\n",
    "    # Return false for None case\n",
    "    if t == None or s == None:\n",
    "        return False\n",
    "    \n",
    "    # Initialize length variables (O(1))\n",
    "    s_length = len(s)\n",
    "    t_length = len(t)\n",
    "    \n",
    "    # Return false for certain edge cases (O(1))\n",
    "    if t_length > s_length or t == \"\" or s == \"\":\n",
    "        return False\n",
    "    \n",
    "    # Convert both strings to lowercase (O(n))\n",
    "    s = s.lower()\n",
    "    t = t.lower()\n",
    "    \n",
    "    # Initialize and sort t_list for easy comparison (O(n))\n",
    "    t_list = list(t)\n",
    "    t_list.sort()\n",
    "    \n",
    "    # Iterate through slices of s of t_length (O(n^2))\n",
    "    for i in xrange(s_length - t_length + 1):\n",
    "        sub_string = s[i:(i + t_length)]\n",
    "        sub_string = list(sub_string)\n",
    "        sub_string.sort()\n",
    "        \n",
    "        # Compare sorted sub_string with t_list\n",
    "        if sub_string == t_list:\n",
    "            return True\n",
    "    \n",
    "    return False"
   ]
  },
  {
   "cell_type": "code",
   "execution_count": 44,
   "metadata": {
    "collapsed": false
   },
   "outputs": [
    {
     "name": "stdout",
     "output_type": "stream",
     "text": [
      "True\n",
      "True\n",
      "False\n",
      "False\n",
      "False\n",
      "True\n"
     ]
    }
   ],
   "source": [
    "# Test normal cases\n",
    "print question1(\"udacity\", \"ad\")\n",
    "# True\n",
    "print question1(\"Batman\", \"tab\")\n",
    "# True\n",
    "print question1(\"abcdefghijklmnopabcdefghijklmnopabcdefghijklmnopab\", \"xyz\")\n",
    "# False\n",
    "\n",
    "# Test edge cases\n",
    "print question1(\"apple\", \"superman\")\n",
    "# False\n",
    "print question1(None, \"\")\n",
    "# False\n",
    "print question1(\"a\", \"a\")\n",
    "# True"
   ]
  },
  {
   "cell_type": "markdown",
   "metadata": {},
   "source": [
    "**Explination:**\n",
    "\n",
    "Iterating through the input string in the correct sized slices was simple enough. I just had to find the lengths of the inputs and slice by the corresponding indexes. Finding an efficent solution for comparing all of the possible anagrams of `t` to the substrings of `s` was a challenge. At first, I played around with the idea of finding all the possible arrangements of `t` and seeing if any of them matched a given substring. This idea wasn't scalable since the number of arangement (len(`t`)!) quickly blows up. Instead, I started to think about what matching with an anagram would mean. Since any arrangement of `t` was possible, all I had to do was see if the substring of `s` contained the same letters as `t` in any order. I used a trick where I converted both the substring of `s` and `t` to lists and then sorted them. If the two were the same, I could return `True`.\n",
    "\n",
    "In the worse case, my solution takes time of O(n^2) and space of O(n+m). The for loop checking all possible substrings contributes the most to the overall efficiency."
   ]
  },
  {
   "cell_type": "markdown",
   "metadata": {},
   "source": [
    "## Question 2\n",
    "Given a string `a`, find the longest palindromic substring contained in `a`. Your function definition should look like `question2(a)`, and return a string."
   ]
  },
  {
   "cell_type": "code",
   "execution_count": 39,
   "metadata": {
    "collapsed": true
   },
   "outputs": [],
   "source": [
    "def question2(a):\n",
    "    \"\"\"\n",
    "    Return the longest palindromic substring containied in a.\n",
    "    \"\"\"\n",
    "    # Return bad input for certain edge cases (O(1))\n",
    "    if a == None or a == \"\":\n",
    "        return \"n/a\"\n",
    "    \n",
    "    # Initialize length variables (O(1))\n",
    "    length = len(a)\n",
    "    pal_length = len(a)\n",
    "    \n",
    "    # Convert string to lowercase (O(n))\n",
    "    a = a.lower()\n",
    "    \n",
    "    # Iterate through different lengths of search (O(n))\n",
    "    while pal_length > 1:\n",
    "        \n",
    "        # Iterate through slices of a (O(n^2))\n",
    "        for i in xrange(length - pal_length + 1):\n",
    "            sub_string = a[i:(i + pal_length)]\n",
    "            \n",
    "            # Check if sub_string is a palindrome\n",
    "            if sub_string == sub_string[::-1]:\n",
    "                return sub_string\n",
    "        \n",
    "        # Reduce pal_length and repeat search\n",
    "        pal_length -= 1\n",
    "    \n",
    "    return \"n/a\""
   ]
  },
  {
   "cell_type": "code",
   "execution_count": 45,
   "metadata": {
    "collapsed": false
   },
   "outputs": [
    {
     "name": "stdout",
     "output_type": "stream",
     "text": [
      "ioioi\n",
      "xyx\n",
      "n/a\n",
      "n/a\n",
      "n/a\n",
      "ccccc\n"
     ]
    }
   ],
   "source": [
    "# Test normal cases\n",
    "print question2(\"ioioi\")\n",
    "# \"ioioi\"\n",
    "print question2(\"abcdxyxefgh\")\n",
    "# \"xyx\"\n",
    "print question2(\"abcdefghijklmnopqrstuvwxyz\")\n",
    "# \"n/a\"\n",
    "\n",
    "# Test edge cases\n",
    "print question2(\"\")\n",
    "# \"n/a\"\n",
    "print question2(None)\n",
    "# \"n/a\"\n",
    "print question2(\"abCcCccxy\")\n",
    "# \"ccccc\""
   ]
  },
  {
   "cell_type": "markdown",
   "metadata": {},
   "source": [
    "**Explination:**\n",
    "\n",
    "My strategy here was to start from the largest possible palindrome, which would be `a`, and check to see if it's palindromic by checking equivilancy with a copy of the word in reverse order. If it was palindromic, the algorithm can stop. If it was not palindromic, the algorithm would search the next largest possible palindromic substrings and repeat.\n",
    "\n",
    "In the worse case, my solution takes time of O(n^2) and space of O(n). The for loop checking all possible substrings contributes the most to the overall efficiency."
   ]
  },
  {
   "cell_type": "markdown",
   "metadata": {},
   "source": [
    "## Question 3\n",
    "Given an undirected graph `G`, find the minimum spanning tree within `G`. A minimum spanning tree connects all vertices in a graph with the smallest possible total weight of edges. Your function should take in and return an adjacency list structured like this:\n",
    "\n",
    "`{'A': [('B', 2)],\n",
    " 'B': [('A', 2), ('C', 5)], \n",
    " 'C': [('B', 5)]}`\n",
    "\n",
    "Vertices are represented as unique strings. The function definition should be `question3(G)`."
   ]
  },
  {
   "cell_type": "code",
   "execution_count": 127,
   "metadata": {
    "collapsed": true
   },
   "outputs": [],
   "source": [
    "# Import library\n",
    "import heapq\n",
    "\n",
    "def question3(G):\n",
    "    \"\"\"\n",
    "    Return the minimum spanning tree withing G.\n",
    "    \"\"\"\n",
    "    # Initialize variables\n",
    "    new_graph = {}\n",
    "    weight = 0\n",
    "    explored = set([])\n",
    "    heap = []\n",
    "    mst = {}\n",
    "    \n",
    "    # Modify G format to include edge pair\n",
    "    for key in G:\n",
    "        new_graph[key] = []\n",
    "        mst[key] = []\n",
    "        for edge in G[key]:\n",
    "            pair = (edge[1], [key, edge[0]])\n",
    "            if pair not in new_graph[key]:\n",
    "                new_graph[key].append(pair)\n",
    "    \n",
    "    # Pick an arbitrary starting vertex\n",
    "    start = list(new_graph.keys())[0]\n",
    "    explored.add(start)\n",
    "    \n",
    "    # Explore\n",
    "    for tup in new_graph[start]:\n",
    "        heapq.heappush(heap, tup)\n",
    "        \n",
    "    while heap:\n",
    "        w, b = heapq.heappop(heap)\n",
    "        if b[1] not in explored:\n",
    "            weight += w\n",
    "            explored.add(b[1])\n",
    "            \n",
    "            if (b[1], w) not in mst[b[0]]:\n",
    "                mst[b[0]].append((b[1],w))\n",
    "            if (b[0], w) not in mst[b[1]]:\n",
    "                mst[b[1]].append((b[0],w))\n",
    "            \n",
    "            for tup in new_graph[b[1]]:\n",
    "                heapq.heappush(heap, tup)\n",
    "\n",
    "    return mst"
   ]
  },
  {
   "cell_type": "code",
   "execution_count": 129,
   "metadata": {
    "collapsed": false
   },
   "outputs": [
    {
     "name": "stdout",
     "output_type": "stream",
     "text": [
      "{'A': [('B', 2)], 'C': [('B', 5)], 'B': [('A', 2), ('C', 5)]}\n",
      "{'A': [('B', 3), ('C', 4)], 'C': [('A', 4)], 'B': [('A', 3), ('E', 2), ('D', 6)], 'E': [('B', 2)], 'D': [('B', 6)]}\n"
     ]
    }
   ],
   "source": [
    "# Test Cases\n",
    "print question3({'A': [('B', 2)],\n",
    " 'B': [('A', 2), ('C', 5)], \n",
    " 'C': [('B', 5)]})\n",
    "\n",
    "print question3({'A': [('B', 3), ('C', 4)],\n",
    " 'B': [('A', 3), ('C', 5), ('D', 6), ('E', 2)],\n",
    " 'C': [('A', 4), ('B', 5), ('E', 7)],\n",
    " 'D': [('B', 6)],\n",
    " 'E': [('B', 2), ('C', 7)]})"
   ]
  },
  {
   "cell_type": "markdown",
   "metadata": {},
   "source": [
    "Explination"
   ]
  },
  {
   "cell_type": "markdown",
   "metadata": {},
   "source": [
    "## Question 4\n",
    "Find the least common ancestor between two nodes on a binary search tree. The least common ancestor is the farthest node from the root that is an ancestor of both nodes. For example, the root is a common ancestor of all nodes on the tree, but if both nodes are descendents of the root's left child, then that left child might be the lowest common ancestor. You can assume that both nodes are in the tree, and the tree itself adheres to all BST properties. The function definition should look like `question4(T, r, n1, n2)`, where `T` is the tree represented as a matrix, where the index of the list is equal to the integer stored in that node and a `1` represents a child node, `r` is a non-negative integer representing the root, and `n1` and `n2` are non-negative integers representing the two nodes in no particular order. For example, one test case might be\n",
    "\n",
    "```question4([[0, 1, 0, 0, 0], \n",
    "           [0, 0, 0, 0, 0],\n",
    "           [0, 0, 0, 0, 0],\n",
    "           [1, 0, 0, 0, 1],\n",
    "           [0, 0, 0, 0, 0]],\n",
    "          3,\n",
    "          1,\n",
    "          4)```\n",
    "          \n",
    "and the answer would be `3`."
   ]
  },
  {
   "cell_type": "code",
   "execution_count": null,
   "metadata": {
    "collapsed": true
   },
   "outputs": [],
   "source": [
    "def question4(T, r, n1, n2):\n",
    "    \"\"\"\n",
    "    \n",
    "    \"\"\""
   ]
  },
  {
   "cell_type": "code",
   "execution_count": null,
   "metadata": {
    "collapsed": true
   },
   "outputs": [],
   "source": [
    "# Test Cases\n",
    "question4([[0, 1, 0, 0, 0], \n",
    "           [0, 0, 0, 0, 0],\n",
    "           [0, 0, 0, 0, 0],\n",
    "           [1, 0, 0, 0, 1],\n",
    "           [0, 0, 0, 0, 0]],\n",
    "          3,\n",
    "          1,\n",
    "          4)"
   ]
  },
  {
   "cell_type": "markdown",
   "metadata": {},
   "source": [
    "Explination"
   ]
  },
  {
   "cell_type": "markdown",
   "metadata": {},
   "source": [
    "## Question 5\n",
    "Find the element in a singly linked list that's `m` elements from the end. For example, if a linked list has 5 elements, the 3rd element from the end is the 3rd element. The function definition should look like `question5(ll, m)`, where `ll` is the first node of a linked list and `m` is the \"mth number from the end\". You should copy/paste the `Node` class below to use as a representation of a node in the linked list. Return the value of the node at that position.\n",
    "\n",
    "```class Node(object):\n",
    "  def __init__(self, data):\n",
    "    self.data = data\n",
    "    self.next = None```"
   ]
  },
  {
   "cell_type": "code",
   "execution_count": null,
   "metadata": {
    "collapsed": true
   },
   "outputs": [],
   "source": [
    "def question5(ll, m):\n",
    "    \"\"\"\n",
    "    \n",
    "    \"\"\""
   ]
  },
  {
   "cell_type": "code",
   "execution_count": null,
   "metadata": {
    "collapsed": true
   },
   "outputs": [],
   "source": [
    "# Test Cases"
   ]
  },
  {
   "cell_type": "markdown",
   "metadata": {},
   "source": [
    "Explination"
   ]
  },
  {
   "cell_type": "code",
   "execution_count": 119,
   "metadata": {
    "collapsed": false
   },
   "outputs": [],
   "source": [
    "import heapq\n",
    "\n",
    "def question3(G):\n",
    "    \"\"\"\n",
    "    Return the minimum spanning tree withing G.\n",
    "    \"\"\"\n",
    "    # Initialize variables\n",
    "    new_graph = {}\n",
    "    weight = 0\n",
    "    explored = set([])\n",
    "    heap = []\n",
    "    mst = {}\n",
    "    \n",
    "    # Modify G format to include edge pair\n",
    "    for key in G:\n",
    "        new_graph[key] = []\n",
    "        mst[key] = []\n",
    "        for edge in G[key]:\n",
    "            pair = (edge[1], [key, edge[0]])\n",
    "            if pair not in new_graph[key]:\n",
    "                new_graph[key].append(pair)\n",
    "    \n",
    "    # Pick an arbitrary starting vertex\n",
    "    start = list(new_graph.keys())[0]\n",
    "    explored.add(start)\n",
    "    \n",
    "    # Explore\n",
    "    for tup in new_graph[start]:\n",
    "        heapq.heappush(heap, tup)\n",
    "        \n",
    "    while heap:\n",
    "        w, b = heapq.heappop(heap)\n",
    "        if b[1] not in explored:\n",
    "            weight += w\n",
    "            explored.add(b[1])\n",
    "            \n",
    "            if (b[1], w) not in mst[b[0]]:\n",
    "                mst[b[0]].append((b[1],w))\n",
    "            if (b[0], w) not in mst[b[1]]:\n",
    "                mst[b[1]].append((b[0],w))\n",
    "            \n",
    "            for tup in new_graph[b[1]]:\n",
    "                heapq.heappush(heap, tup)\n",
    "\n",
    "    return mst"
   ]
  },
  {
   "cell_type": "code",
   "execution_count": 121,
   "metadata": {
    "collapsed": false
   },
   "outputs": [
    {
     "data": {
      "text/plain": [
       "{'A': [('B', 2)], 'B': [('A', 2), ('C', 5)], 'C': [('B', 5)]}"
      ]
     },
     "execution_count": 121,
     "metadata": {},
     "output_type": "execute_result"
    }
   ],
   "source": [
    "question3({'A': [('B', 2)],\n",
    " 'B': [('A', 2), ('C', 5)], \n",
    " 'C': [('B', 5)]})"
   ]
  },
  {
   "cell_type": "code",
   "execution_count": null,
   "metadata": {
    "collapsed": true
   },
   "outputs": [],
   "source": []
  }
 ],
 "metadata": {
  "anaconda-cloud": {},
  "kernelspec": {
   "display_name": "Python [conda root]",
   "language": "python",
   "name": "conda-root-py"
  },
  "language_info": {
   "codemirror_mode": {
    "name": "ipython",
    "version": 2
   },
   "file_extension": ".py",
   "mimetype": "text/x-python",
   "name": "python",
   "nbconvert_exporter": "python",
   "pygments_lexer": "ipython2",
   "version": "2.7.12"
  }
 },
 "nbformat": 4,
 "nbformat_minor": 1
}
